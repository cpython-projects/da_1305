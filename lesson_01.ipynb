{
  "nbformat": 4,
  "nbformat_minor": 0,
  "metadata": {
    "colab": {
      "provenance": [],
      "authorship_tag": "ABX9TyMpK76UvSEX97WpjbMI67Va",
      "include_colab_link": true
    },
    "kernelspec": {
      "name": "python3",
      "display_name": "Python 3"
    },
    "language_info": {
      "name": "python"
    }
  },
  "cells": [
    {
      "cell_type": "markdown",
      "metadata": {
        "id": "view-in-github",
        "colab_type": "text"
      },
      "source": [
        "<a href=\"https://colab.research.google.com/github/cpython-projects/da_1305/blob/main/lesson_01.ipynb\" target=\"_parent\"><img src=\"https://colab.research.google.com/assets/colab-badge.svg\" alt=\"Open In Colab\"/></a>"
      ]
    },
    {
      "cell_type": "code",
      "execution_count": null,
      "metadata": {
        "colab": {
          "base_uri": "https://localhost:8080/"
        },
        "id": "jZtyryqxp9vE",
        "outputId": "8e660bb4-a4e0-4745-f98f-742ed22216bd"
      },
      "outputs": [
        {
          "output_type": "stream",
          "name": "stdout",
          "text": [
            "Hello, world!\n"
          ]
        }
      ],
      "source": [
        "print('Hello, world!')"
      ]
    },
    {
      "cell_type": "code",
      "source": [
        "print(23 + 23)\n",
        "\n",
        "# Comment 1\n",
        "print(23 - 34)\n",
        "print(2 * 8)  # Comment 2\n",
        "print(2 ** 8)\n",
        "print(5 / 2)\n",
        "print(5 // 2)\n",
        "print(5 % 2)"
      ],
      "metadata": {
        "colab": {
          "base_uri": "https://localhost:8080/"
        },
        "id": "kuBbPe9PrZVn",
        "outputId": "bd1791a4-bb75-40ca-d43c-6d943c006cee"
      },
      "execution_count": null,
      "outputs": [
        {
          "output_type": "stream",
          "name": "stdout",
          "text": [
            "46\n",
            "-11\n",
            "16\n",
            "256\n",
            "2.5\n",
            "2\n",
            "1\n"
          ]
        }
      ]
    },
    {
      "cell_type": "code",
      "source": [
        "x = 12323\n",
        "y = 1_000_000_000\n",
        "print(y)"
      ],
      "metadata": {
        "colab": {
          "base_uri": "https://localhost:8080/"
        },
        "id": "FiSO9jO3rswK",
        "outputId": "456423ab-ba33-4c03-e266-8979b09735cf"
      },
      "execution_count": null,
      "outputs": [
        {
          "output_type": "stream",
          "name": "stdout",
          "text": [
            "1000000000\n"
          ]
        }
      ]
    },
    {
      "cell_type": "code",
      "source": [
        "x = 12.334\n",
        "x = 1.\n",
        "x = .01\n",
        "x = 23e-3 # 23 * 10^-3"
      ],
      "metadata": {
        "id": "skHgYwxXtaDr"
      },
      "execution_count": null,
      "outputs": []
    },
    {
      "cell_type": "code",
      "source": [
        "x = int(input('number>>'))\n",
        "y = int(input('number>>'))\n",
        "\n",
        "print(x + y)"
      ],
      "metadata": {
        "colab": {
          "base_uri": "https://localhost:8080/"
        },
        "id": "85k_r3ibuAls",
        "outputId": "3bfde918-e8e2-4df8-f332-66abae8efd52"
      },
      "execution_count": null,
      "outputs": [
        {
          "output_type": "stream",
          "name": "stdout",
          "text": [
            "number>>4\n",
            "number>>5\n",
            "9\n"
          ]
        }
      ]
    },
    {
      "cell_type": "code",
      "source": [
        "x = float(input('number>>'))\n",
        "y = float(input('number>>'))\n",
        "\n",
        "print(x + y)"
      ],
      "metadata": {
        "colab": {
          "base_uri": "https://localhost:8080/"
        },
        "id": "6pgifeeLwApB",
        "outputId": "7aa5e489-a0e9-4551-c1b0-319c197a6d88"
      },
      "execution_count": null,
      "outputs": [
        {
          "output_type": "stream",
          "name": "stdout",
          "text": [
            "number>>34.5\n",
            "number>>34.2\n",
            "68.7\n"
          ]
        }
      ]
    },
    {
      "cell_type": "code",
      "source": [
        "x = float(input('number>>'))\n",
        "y = float(input('number>>'))\n",
        "\n",
        "print(x, '+', y, '=', x + y)\n",
        "\n",
        "print(f'{x} + {y} = {x + y}')"
      ],
      "metadata": {
        "colab": {
          "base_uri": "https://localhost:8080/"
        },
        "id": "4L6n1LZky46c",
        "outputId": "f9521d5b-4ede-4e0d-be42-bc1b4d547d6f"
      },
      "execution_count": null,
      "outputs": [
        {
          "output_type": "stream",
          "name": "stdout",
          "text": [
            "number>>3\n",
            "number>>4\n",
            "3.0 + 4.0 = 7.0\n",
            "3.0 + 4.0 = 7.0\n"
          ]
        }
      ]
    },
    {
      "cell_type": "code",
      "source": [
        "print(1, 2, 3, 4, 5, 6, 7, sep='***')"
      ],
      "metadata": {
        "colab": {
          "base_uri": "https://localhost:8080/"
        },
        "id": "XEKenpmvzlRq",
        "outputId": "d60e2716-6eb1-4c08-a952-3d7d863ccefb"
      },
      "execution_count": null,
      "outputs": [
        {
          "output_type": "stream",
          "name": "stdout",
          "text": [
            "1***2***3***4***5***6***7\n"
          ]
        }
      ]
    },
    {
      "cell_type": "code",
      "source": [
        "print(1, 2, 3, 4, 5, 6, 7, sep='\\n') #"
      ],
      "metadata": {
        "colab": {
          "base_uri": "https://localhost:8080/"
        },
        "id": "V8lG-yqCz0mp",
        "outputId": "ba363257-1f3d-43b4-db5f-6478cf8b6493"
      },
      "execution_count": null,
      "outputs": [
        {
          "output_type": "stream",
          "name": "stdout",
          "text": [
            "1\n",
            "2\n",
            "3\n",
            "4\n",
            "5\n",
            "6\n",
            "7\n"
          ]
        }
      ]
    },
    {
      "cell_type": "markdown",
      "source": [
        "# **kjklhkler relkj3klfj 3klrj34lrj**"
      ],
      "metadata": {
        "id": "Tpoxroii0mUq"
      }
    }
  ]
}