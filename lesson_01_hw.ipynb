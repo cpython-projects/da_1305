{
  "cells": [
    {
      "cell_type": "markdown",
      "metadata": {
        "id": "view-in-github",
        "colab_type": "text"
      },
      "source": [
        "<a href=\"https://colab.research.google.com/github/cpython-projects/da_1305/blob/main/lesson_01_hw.ipynb\" target=\"_parent\"><img src=\"https://colab.research.google.com/assets/colab-badge.svg\" alt=\"Open In Colab\"/></a>"
      ]
    },
    {
      "cell_type": "markdown",
      "metadata": {
        "id": "FG6UBAH5QvwH"
      },
      "source": [
        "**Task 1.**\n",
        "Напишіть скрипт, який для п’яти цілих чисел (вводяться користувачем з клавіатури), знаходить мінімум, максимум і середнє арифметичне."
      ]
    },
    {
      "cell_type": "code",
      "execution_count": null,
      "metadata": {
        "id": "K2bYixMt5W4K"
      },
      "outputs": [],
      "source": []
    },
    {
      "cell_type": "markdown",
      "metadata": {
        "id": "mne2wMDJR1_r"
      },
      "source": [
        "**Task 2.**\n",
        "Напишіть скрипт, який повертає результат арифметичних операцій +, -, *, /, // для заданих x і y."
      ]
    },
    {
      "cell_type": "code",
      "execution_count": null,
      "metadata": {
        "id": "240yMJ9G5W4L"
      },
      "outputs": [],
      "source": []
    },
    {
      "cell_type": "markdown",
      "metadata": {
        "id": "UbBniKX0R--M"
      },
      "source": [
        "**Task 3.**\n",
        "Напишіть скрипт, який для кола заданого радіуса (вводиться користувачем з клавіатури) знаходить діаметр, довжину кола та площу."
      ]
    },
    {
      "cell_type": "code",
      "execution_count": null,
      "metadata": {
        "id": "OmeL66Qd5W4M"
      },
      "outputs": [],
      "source": []
    },
    {
      "cell_type": "markdown",
      "metadata": {
        "id": "ItQavp4oSDmm"
      },
      "source": [
        "**Task 4.**\n",
        "Напишіть скрипт, який розділяє трицифрове ціле число (вводиться користувачем з клавіатури) на окремі цифри. Кожну цифру потрібно вивести в окремому рядку.\n",
        "Наприклад, якщо користувач вводить число 987, скрипт має вивести в терміналі:  \n",
        "9  \n",
        "8  \n",
        "7  "
      ]
    },
    {
      "cell_type": "code",
      "execution_count": null,
      "metadata": {
        "id": "jviIvZQH5W4N"
      },
      "outputs": [],
      "source": []
    },
    {
      "cell_type": "markdown",
      "metadata": {
        "id": "l2_LILDISKuW"
      },
      "source": [
        "**Task 5.**\n",
        "Деякі інвестиційні консультанти вважають, що в довгостроковій перспективі на фондовому ринку можна очікувати 10% прибутку.\n",
        "Припускаючи, що ви починаєте з 1000 доларів і залишаєте ваші гроші інвестованими, обчисліть і виведіть, скільки грошей у вас буде через 10, 20 та 30 років.\n",
        "Використайте таку формулу для обчислення суми:  \n",
        "a = p(1 + r)^n  \n",
        "де p — початкова інвестована сума (тобто 1000 доларів США),  \n",
        "r — річна норма прибутку (10%),  \n",
        "n — кількість років (10, 20 або 30),  \n",
        "a — сума на рахунку в кінці n-го року.  "
      ]
    },
    {
      "cell_type": "code",
      "execution_count": null,
      "metadata": {
        "id": "xAjZ8C4k5W4N"
      },
      "outputs": [],
      "source": []
    }
  ],
  "metadata": {
    "colab": {
      "provenance": [],
      "include_colab_link": true
    },
    "kernelspec": {
      "display_name": "Python 3 (ipykernel)",
      "language": "python",
      "name": "python3"
    },
    "language_info": {
      "codemirror_mode": {
        "name": "ipython",
        "version": 3
      },
      "file_extension": ".py",
      "mimetype": "text/x-python",
      "name": "python",
      "nbconvert_exporter": "python",
      "pygments_lexer": "ipython3",
      "version": "3.13.2"
    }
  },
  "nbformat": 4,
  "nbformat_minor": 0
}