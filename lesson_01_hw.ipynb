{
  "cells": [
    {
      "cell_type": "markdown",
      "metadata": {
        "id": "view-in-github",
        "colab_type": "text"
      },
      "source": [
        "<a href=\"https://colab.research.google.com/github/cpython-projects/da_1305/blob/main/lesson_01_hw.ipynb\" target=\"_parent\"><img src=\"https://colab.research.google.com/assets/colab-badge.svg\" alt=\"Open In Colab\"/></a>"
      ]
    },
    {
      "cell_type": "markdown",
      "metadata": {
        "id": "FG6UBAH5QvwH"
      },
      "source": [
        "**Task 1.**\n",
        "Напишіть скрипт, який для п’яти цілих чисел (вводяться користувачем з клавіатури), знаходить мінімум, максимум і середнє арифметичне."
      ]
    },
    {
      "cell_type": "code",
      "execution_count": 1,
      "metadata": {
        "id": "K2bYixMt5W4K",
        "outputId": "b51c4c98-3c14-468b-811b-dcf96918c012",
        "colab": {
          "base_uri": "https://localhost:8080/"
        }
      },
      "outputs": [
        {
          "output_type": "stream",
          "name": "stdout",
          "text": [
            "x1>>3\n",
            "x2>>4\n",
            "x3>>2\n",
            "x4>>1\n",
            "x5>>45\n",
            "Min: 1\n",
            "Max: 45\n",
            "Avg: 11.0\n"
          ]
        }
      ],
      "source": [
        "x1 = int(input('x1>>'))\n",
        "x2 = int(input('x2>>'))\n",
        "x3 = int(input('x3>>'))\n",
        "x4 = int(input('x4>>'))\n",
        "x5 = int(input('x5>>'))\n",
        "\n",
        "min_number = min(x1, x2, x3, x4, x5)\n",
        "max_number = max(x1, x2, x3, x4, x5)\n",
        "\n",
        "avg = (x1 + x2 + x3 + x4 + x5) / 5\n",
        "\n",
        "print(f'Min: {min_number}')\n",
        "print(f'Max: {max_number}')\n",
        "print(f'Avg: {avg}')"
      ]
    },
    {
      "cell_type": "markdown",
      "metadata": {
        "id": "mne2wMDJR1_r"
      },
      "source": [
        "**Task 2.**\n",
        "Напишіть скрипт, який повертає результат арифметичних операцій +, -, *, /, // для заданих x і y."
      ]
    },
    {
      "cell_type": "code",
      "execution_count": 4,
      "metadata": {
        "id": "240yMJ9G5W4L",
        "outputId": "da21d8eb-dbf8-4b48-9e9a-680876cbce3b",
        "colab": {
          "base_uri": "https://localhost:8080/"
        }
      },
      "outputs": [
        {
          "output_type": "stream",
          "name": "stdout",
          "text": [
            "x>>12\n",
            "y>>23\n",
            "12 + 23 = 35\n",
            "12 * 23 = 276\n",
            "12 - 23 = -11\n",
            "12 / 23 = 0.5217391304347826\n",
            "12 // 23 = 0\n"
          ]
        }
      ],
      "source": [
        "x = int(input('x>>'))\n",
        "y = int(input('y>>'))\n",
        "\n",
        "print(f'{x} + {y} = {x + y}')\n",
        "print(f'{x} * {y} = {x * y}')\n",
        "print(f'{x} - {y} = {x - y}')\n",
        "print(f'{x} / {y} = {x / y}')\n",
        "print(f'{x} // {y} = {x // y}')"
      ]
    },
    {
      "cell_type": "code",
      "source": [
        "x = y = 4"
      ],
      "metadata": {
        "id": "RBCAn_dDtyJK",
        "outputId": "0a94ef42-9e86-44cd-9376-efce952c2a8d",
        "colab": {
          "base_uri": "https://localhost:8080/"
        }
      },
      "execution_count": 2,
      "outputs": [
        {
          "output_type": "execute_result",
          "data": {
            "text/plain": [
              "4"
            ]
          },
          "metadata": {},
          "execution_count": 2
        }
      ]
    },
    {
      "cell_type": "code",
      "source": [
        "x, y, z = 10, 20, 30"
      ],
      "metadata": {
        "id": "2f3eVuofuIDJ"
      },
      "execution_count": null,
      "outputs": []
    },
    {
      "cell_type": "code",
      "source": [
        "x, y = 10, 20\n",
        "\n",
        "x, y = y, x\n",
        "\n",
        "print(x)\n",
        "print(y)"
      ],
      "metadata": {
        "id": "7Clr0XEzuScf",
        "outputId": "48940c24-1346-4cfa-b93f-aff4078fe77c",
        "colab": {
          "base_uri": "https://localhost:8080/"
        }
      },
      "execution_count": 3,
      "outputs": [
        {
          "output_type": "stream",
          "name": "stdout",
          "text": [
            "20\n",
            "10\n"
          ]
        }
      ]
    },
    {
      "cell_type": "markdown",
      "metadata": {
        "id": "UbBniKX0R--M"
      },
      "source": [
        "**Task 3.**\n",
        "Напишіть скрипт, який для кола заданого радіуса (вводиться користувачем з клавіатури) знаходить діаметр, довжину кола та площу."
      ]
    },
    {
      "cell_type": "code",
      "execution_count": 6,
      "metadata": {
        "id": "OmeL66Qd5W4M",
        "outputId": "e9531187-b66c-4106-c9c7-87279f33ccfd",
        "colab": {
          "base_uri": "https://localhost:8080/"
        }
      },
      "outputs": [
        {
          "output_type": "stream",
          "name": "stdout",
          "text": [
            "R>>23\n",
            "D: 6.28\n",
            "L: 144.51\n",
            "S: 3323.81\n"
          ]
        }
      ],
      "source": [
        "import math\n",
        "\n",
        "r = int(input('R>>'))\n",
        "print(f'D: {2 * math.pi:.2f}')\n",
        "print(f'L: {2 * math.pi * r:.2f}')\n",
        "print(f'S: {2 * math.pi * r ** 2:.2f}')"
      ]
    },
    {
      "cell_type": "code",
      "source": [
        "4 + 5 * 2 / 3"
      ],
      "metadata": {
        "id": "Nw9dM4nFwzDo",
        "outputId": "56497fd6-1dac-41d9-a716-1d625f3d4f28",
        "colab": {
          "base_uri": "https://localhost:8080/"
        }
      },
      "execution_count": 8,
      "outputs": [
        {
          "output_type": "execute_result",
          "data": {
            "text/plain": [
              "7.333333333333334"
            ]
          },
          "metadata": {},
          "execution_count": 8
        }
      ]
    },
    {
      "cell_type": "code",
      "source": [
        "2 * 2 ** 3"
      ],
      "metadata": {
        "id": "G3chkpAqxASB",
        "outputId": "aa43fd8b-9ca0-4803-8a8c-3de9961f31f1",
        "colab": {
          "base_uri": "https://localhost:8080/"
        }
      },
      "execution_count": 9,
      "outputs": [
        {
          "output_type": "execute_result",
          "data": {
            "text/plain": [
              "16"
            ]
          },
          "metadata": {},
          "execution_count": 9
        }
      ]
    },
    {
      "cell_type": "markdown",
      "metadata": {
        "id": "ItQavp4oSDmm"
      },
      "source": [
        "**Task 4.**\n",
        "Напишіть скрипт, який розділяє трицифрове ціле число (вводиться користувачем з клавіатури) на окремі цифри. Кожну цифру потрібно вивести в окремому рядку.\n",
        "Наприклад, якщо користувач вводить число 987, скрипт має вивести в терміналі:  \n",
        "9  \n",
        "8  \n",
        "7  "
      ]
    },
    {
      "cell_type": "code",
      "execution_count": 10,
      "metadata": {
        "id": "jviIvZQH5W4N",
        "outputId": "e84b037c-ea2a-40e1-ef6e-50d4a9d2c89a",
        "colab": {
          "base_uri": "https://localhost:8080/"
        }
      },
      "outputs": [
        {
          "name": "stdout",
          "output_type": "stream",
          "text": [
            "x>>123\n"
          ]
        }
      ],
      "source": [
        "x = int(input('x>>'))\n"
      ]
    },
    {
      "cell_type": "code",
      "source": [
        "x // 100"
      ],
      "metadata": {
        "id": "7X_oGQwqxcXj",
        "outputId": "56b4e4be-62a2-49e1-b6df-f9dbbe1f48f8",
        "colab": {
          "base_uri": "https://localhost:8080/"
        }
      },
      "execution_count": 11,
      "outputs": [
        {
          "output_type": "execute_result",
          "data": {
            "text/plain": [
              "1"
            ]
          },
          "metadata": {},
          "execution_count": 11
        }
      ]
    },
    {
      "cell_type": "code",
      "source": [
        "x // 10 % 10"
      ],
      "metadata": {
        "id": "_Vxt_yDGyA_w",
        "outputId": "f3f9c7dd-01ed-43ca-8f94-57e2cfa2d511",
        "colab": {
          "base_uri": "https://localhost:8080/"
        }
      },
      "execution_count": 12,
      "outputs": [
        {
          "output_type": "execute_result",
          "data": {
            "text/plain": [
              "2"
            ]
          },
          "metadata": {},
          "execution_count": 12
        }
      ]
    },
    {
      "cell_type": "code",
      "source": [
        "x % 10"
      ],
      "metadata": {
        "id": "8k9V_8sfyEBq",
        "outputId": "3e0374b8-dcd0-4719-a4b9-b4c84477357c",
        "colab": {
          "base_uri": "https://localhost:8080/"
        }
      },
      "execution_count": 13,
      "outputs": [
        {
          "output_type": "execute_result",
          "data": {
            "text/plain": [
              "3"
            ]
          },
          "metadata": {},
          "execution_count": 13
        }
      ]
    },
    {
      "cell_type": "markdown",
      "metadata": {
        "id": "l2_LILDISKuW"
      },
      "source": [
        "**Task 5.**\n",
        "Деякі інвестиційні консультанти вважають, що в довгостроковій перспективі на фондовому ринку можна очікувати 10% прибутку.\n",
        "Припускаючи, що ви починаєте з 1000 доларів і залишаєте ваші гроші інвестованими, обчисліть і виведіть, скільки грошей у вас буде через 10, 20 та 30 років.\n",
        "Використайте таку формулу для обчислення суми:  \n",
        "a = p(1 + r)^n  \n",
        "де p — початкова інвестована сума (тобто 1000 доларів США),  \n",
        "r — річна норма прибутку (10%),  \n",
        "n — кількість років (10, 20 або 30),  \n",
        "a — сума на рахунку в кінці n-го року.  "
      ]
    },
    {
      "cell_type": "code",
      "execution_count": 16,
      "metadata": {
        "id": "xAjZ8C4k5W4N",
        "outputId": "7fe2ac51-2893-42c3-c499-0f18ce1979aa",
        "colab": {
          "base_uri": "https://localhost:8080/"
        }
      },
      "outputs": [
        {
          "output_type": "stream",
          "name": "stdout",
          "text": [
            "amount>>1000\n",
            "rate>>10\n",
            "years>>10\n",
            "$: 2593.74\n"
          ]
        }
      ],
      "source": [
        "p = int(input('amount>>'))\n",
        "r = int(input('rate>>')) # 0-100\n",
        "n = int(input('years>>'))\n",
        "\n",
        "r = r / 100\n",
        "\n",
        "a = p * (1 + r) ** n\n",
        "print(f'$: {a:.2f}')"
      ]
    },
    {
      "cell_type": "code",
      "source": [
        "a = 10\n",
        "a = a + 5\n",
        "print(a)"
      ],
      "metadata": {
        "id": "Ey6LqsxNzK5I",
        "outputId": "5fbd8317-1322-47ff-f34c-df5967c5fd11",
        "colab": {
          "base_uri": "https://localhost:8080/"
        }
      },
      "execution_count": 17,
      "outputs": [
        {
          "output_type": "stream",
          "name": "stdout",
          "text": [
            "15\n"
          ]
        }
      ]
    },
    {
      "cell_type": "code",
      "source": [
        "a = 10\n",
        "a += 5 # -=, *=, /=, //=, %=, **=\n",
        "print(a)"
      ],
      "metadata": {
        "id": "resH0YVjzRVq",
        "outputId": "e27b5929-ec38-45ab-f3bb-fd2118aad793",
        "colab": {
          "base_uri": "https://localhost:8080/"
        }
      },
      "execution_count": 19,
      "outputs": [
        {
          "output_type": "stream",
          "name": "stdout",
          "text": [
            "15\n"
          ]
        }
      ]
    }
  ],
  "metadata": {
    "colab": {
      "provenance": [],
      "include_colab_link": true
    },
    "kernelspec": {
      "display_name": "Python 3 (ipykernel)",
      "language": "python",
      "name": "python3"
    },
    "language_info": {
      "codemirror_mode": {
        "name": "ipython",
        "version": 3
      },
      "file_extension": ".py",
      "mimetype": "text/x-python",
      "name": "python",
      "nbconvert_exporter": "python",
      "pygments_lexer": "ipython3",
      "version": "3.13.2"
    }
  },
  "nbformat": 4,
  "nbformat_minor": 0
}