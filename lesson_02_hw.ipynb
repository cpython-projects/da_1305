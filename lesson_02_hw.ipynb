{
  "nbformat": 4,
  "nbformat_minor": 0,
  "metadata": {
    "colab": {
      "provenance": [],
      "authorship_tag": "ABX9TyOnJEJonjR6sDmCLbHex4Gg",
      "include_colab_link": true
    },
    "kernelspec": {
      "name": "python3",
      "display_name": "Python 3"
    },
    "language_info": {
      "name": "python"
    }
  },
  "cells": [
    {
      "cell_type": "markdown",
      "metadata": {
        "id": "view-in-github",
        "colab_type": "text"
      },
      "source": [
        "<a href=\"https://colab.research.google.com/github/cpython-projects/da_1305/blob/main/lesson_02_hw.ipynb\" target=\"_parent\"><img src=\"https://colab.research.google.com/assets/colab-badge.svg\" alt=\"Open In Colab\"/></a>"
      ]
    },
    {
      "cell_type": "markdown",
      "source": [
        "**Task 1.** Ціна товару - 799.99. Знижка – 15%. Обчисліть суму знижки та підсумкову ціну."
      ],
      "metadata": {
        "id": "GbrNhozjvmLP"
      }
    },
    {
      "cell_type": "code",
      "execution_count": null,
      "metadata": {
        "id": "xC10NTu3vKDb"
      },
      "outputs": [],
      "source": []
    },
    {
      "cell_type": "markdown",
      "source": [
        "**Task 2.** Один товар коштує 349,75. Клієнт купив 4 штуки. Знайдіть загальну вартість замовлення."
      ],
      "metadata": {
        "id": "Raw8jmMtvnaQ"
      }
    },
    {
      "cell_type": "code",
      "source": [],
      "metadata": {
        "id": "53ShW0lzvns1"
      },
      "execution_count": null,
      "outputs": []
    },
    {
      "cell_type": "markdown",
      "source": [
        "**Task 3.** Ціна товару у євро: 129.99.  \n",
        "Курс: 1 євро = 1.08 дол. США.  \n",
        "Знайдіть ціну товару в США.  "
      ],
      "metadata": {
        "id": "EGHCp0BOvn6r"
      }
    },
    {
      "cell_type": "code",
      "source": [],
      "metadata": {
        "id": "ZRTeaODyvoFl"
      },
      "execution_count": null,
      "outputs": []
    },
    {
      "cell_type": "markdown",
      "source": [
        "**Task 4.** Ціна товару 543.6789.\n",
        "Округліть:  \n",
        "- до двох знаків після коми  \n",
        "- до цілого числа  "
      ],
      "metadata": {
        "id": "a-Zh4HENvoQ4"
      }
    },
    {
      "cell_type": "code",
      "source": [],
      "metadata": {
        "id": "HX_2d1jZvoac"
      },
      "execution_count": null,
      "outputs": []
    },
    {
      "cell_type": "markdown",
      "source": [
        "**Task 5.** Ціна без податку: 999.50 грн. ПДВ: 20%  \n",
        "Знайдіть суму податку та підсумкову ціну, округливши результат до двох знаків після коми"
      ],
      "metadata": {
        "id": "y7EvR4VPvolD"
      }
    },
    {
      "cell_type": "code",
      "source": [],
      "metadata": {
        "id": "EpSsWvfSvouc"
      },
      "execution_count": null,
      "outputs": []
    },
    {
      "cell_type": "markdown",
      "source": [
        "**Task 6.**\n",
        "Дохід компанії - 1578934.55 грн, витрати - 894732.67 грн.  \n",
        "Знайдіть чистий прибуток із точністю до двох знаків після коми, використовуючи decimal.Decimal."
      ],
      "metadata": {
        "id": "epR35N0vvo4s"
      }
    },
    {
      "cell_type": "code",
      "source": [],
      "metadata": {
        "id": "1TOb-GplvpCR"
      },
      "execution_count": null,
      "outputs": []
    },
    {
      "cell_type": "markdown",
      "source": [
        "**Task 7.**\n",
        "Якщо ціна товару більша за 500 грн, застосовується знижка 10%, інакше 5%. Напишіть логічний вираз, який вибирає потрібну знижку."
      ],
      "metadata": {
        "id": "wsHEpW5IvpMe"
      }
    },
    {
      "cell_type": "code",
      "source": [],
      "metadata": {
        "id": "AIih7j3yvpWK"
      },
      "execution_count": null,
      "outputs": []
    },
    {
      "cell_type": "markdown",
      "source": [
        "**Task 8.**\n",
        "Ціна товару 349.75 грн. Потрібно перевірити, чи вона входить в діапазон від 300 до 500 грн включно"
      ],
      "metadata": {
        "id": "oJ8Qh33kvpgp"
      }
    },
    {
      "cell_type": "code",
      "source": [],
      "metadata": {
        "id": "cXf7eGeRvpqU"
      },
      "execution_count": null,
      "outputs": []
    },
    {
      "cell_type": "markdown",
      "source": [
        "**Task 9.**\n",
        "У клієнта є знижка за промокодом, але вона застосовується лише якщо ціна товару більша за 100 грн і знижка не перевищує 20%.\n",
        "Визначте, чи буде застосовано промокод при Price = 150.45 та Discount = 15%."
      ],
      "metadata": {
        "id": "ccDpxvJc1c6I"
      }
    },
    {
      "cell_type": "code",
      "source": [],
      "metadata": {
        "id": "8yV8iT151fxf"
      },
      "execution_count": null,
      "outputs": []
    },
    {
      "cell_type": "markdown",
      "source": [
        "**Task 10.**\n",
        "Компанія тестує дві схеми знижок:  \n",
        "- Схема A: фіксована знижка 50 у.о.  \n",
        "- Схема B: знижка 8% від ціни.  \n",
        "За якої мінімальної ціни товару схема B стає вигіднішою для покупця?"
      ],
      "metadata": {
        "id": "5s4TXql31gGF"
      }
    },
    {
      "cell_type": "code",
      "source": [],
      "metadata": {
        "id": "btfVoRAu1jYa"
      },
      "execution_count": null,
      "outputs": []
    },
    {
      "cell_type": "markdown",
      "source": [
        "**Task 11.**\n",
        "У різних країнах використовують різні методи заокруглення податків:  \n",
        "- у США округляють вниз  \n",
        "- у ЄС округляють до найближчого\n",
        "- у Японії округляють нагору  \n",
        "Для суми податку 23.5678 покажіть, які значення вийдуть за різних методів округлення"
      ],
      "metadata": {
        "id": "SQeggcAn1jn4"
      }
    },
    {
      "cell_type": "code",
      "source": [],
      "metadata": {
        "id": "-EUMJM_U1mhz"
      },
      "execution_count": null,
      "outputs": []
    },
    {
      "cell_type": "markdown",
      "source": [
        "**Task 12.**\n",
        "Обчисліть різницю у розрахунку валютних операцій при float та decimal.\n",
        "Конвертуйте 1000 євро в долари за курсу 1.0873.\n",
        "Порівняйте результат округлення до двох знаків після коми під час використання float і Decimal."
      ],
      "metadata": {
        "id": "-1grcgNx1mui"
      }
    },
    {
      "cell_type": "code",
      "source": [],
      "metadata": {
        "id": "rUpLR6vs1pCQ"
      },
      "execution_count": null,
      "outputs": []
    },
    {
      "cell_type": "markdown",
      "source": [
        "**Task 13.**\n",
        "Банк нараховує відсотки на внесок та використовує банківське округлення (до найближчого парного числа після коми). Яку суму отримає клієнт за рік, якщо у нього на рахунку 1000.005 у.о., а ставка — 3.5%? Як зміниться результат, якщо використовувати стандартне округлення ROUND_HALF_UP?"
      ],
      "metadata": {
        "id": "WsPoxW0F1pPq"
      }
    },
    {
      "cell_type": "code",
      "source": [],
      "metadata": {
        "id": "my2MHC5i1sYA"
      },
      "execution_count": null,
      "outputs": []
    },
    {
      "cell_type": "markdown",
      "source": [
        "**Task 14.**\n",
        "У країні X прибрали монети номіналом 1 і 2 центи, тому ціни заокруглюють до найближчих 5 центів.\n",
        "Яку суму заплатить покупець, якщо спочатку вона становила 12.83, 14.88 та 19.92 у.о.?"
      ],
      "metadata": {
        "id": "UFo2GeKi1smB"
      }
    },
    {
      "cell_type": "code",
      "source": [],
      "metadata": {
        "id": "45FPkQrt1uwE"
      },
      "execution_count": null,
      "outputs": []
    },
    {
      "cell_type": "markdown",
      "source": [
        "**Task 15.**\n",
        "В університеті оцінки округляють за таким правилом:\n",
        "Якщо дрібна частина ≥ 0.75, округляють вгору.\n",
        "Якщо ≤ 0.25 округляють вниз.\n",
        "Якщо 0.26 - 0.74, округляють до найближчого 0.5.\n",
        "Яку підсумкову оцінку отримає студент, якщо його середній бал: 3.24, 4.77, 3.68, 2.50?"
      ],
      "metadata": {
        "id": "UGeECBGe1xOS"
      }
    },
    {
      "cell_type": "code",
      "source": [],
      "metadata": {
        "id": "bvGXhWVR1zK1"
      },
      "execution_count": null,
      "outputs": []
    },
    {
      "cell_type": "markdown",
      "source": [
        "**Task 16.**\n",
        "Компанія сплачує зарплату з точністю до цілого числа, округляючи вниз (floor).\n",
        "Якщо співробітнику нарахували 2350,89 у.о., скільки він отримає?\n",
        "А якщо округлення відбувається до найближчої десятки?"
      ],
      "metadata": {
        "id": "kJQ_8Ixz1zbF"
      }
    },
    {
      "cell_type": "code",
      "source": [],
      "metadata": {
        "id": "dyGbbw5O11Xh"
      },
      "execution_count": null,
      "outputs": []
    },
    {
      "cell_type": "markdown",
      "source": [
        "**Task 17.**\n",
        "Ви маєте 1000 транзакцій по 1.005 у.о. Кожна округляється до двох символів (ROUND_HALF_UP).\n",
        "Яка різниця між сумою після округлення кожної транзакції окремо та округленням підсумкової суми?"
      ],
      "metadata": {
        "id": "lGpEkB2J1134"
      }
    },
    {
      "cell_type": "code",
      "source": [],
      "metadata": {
        "id": "ivFSya6f123d"
      },
      "execution_count": null,
      "outputs": []
    }
  ]
}