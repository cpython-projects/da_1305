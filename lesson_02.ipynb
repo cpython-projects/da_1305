{
  "nbformat": 4,
  "nbformat_minor": 0,
  "metadata": {
    "colab": {
      "provenance": [],
      "authorship_tag": "ABX9TyMCRK3i7HawzfAg+HWQTB2j",
      "include_colab_link": true
    },
    "kernelspec": {
      "name": "python3",
      "display_name": "Python 3"
    },
    "language_info": {
      "name": "python"
    }
  },
  "cells": [
    {
      "cell_type": "markdown",
      "metadata": {
        "id": "view-in-github",
        "colab_type": "text"
      },
      "source": [
        "<a href=\"https://colab.research.google.com/github/cpython-projects/da_1305/blob/main/lesson_02.ipynb\" target=\"_parent\"><img src=\"https://colab.research.google.com/assets/colab-badge.svg\" alt=\"Open In Colab\"/></a>"
      ]
    },
    {
      "cell_type": "code",
      "execution_count": 1,
      "metadata": {
        "colab": {
          "base_uri": "https://localhost:8080/"
        },
        "id": "PLn64wTSz8vq",
        "outputId": "329e195c-afac-4b3a-b3e1-b8db85f33826"
      },
      "outputs": [
        {
          "output_type": "stream",
          "name": "stdout",
          "text": [
            "10750984\n"
          ]
        }
      ],
      "source": [
        "x = 5\n",
        "print(id(x))"
      ]
    },
    {
      "cell_type": "code",
      "source": [
        "x = 5\n",
        "y = 5\n",
        "y += 1\n",
        "\n",
        "print(id(x))\n",
        "print(id(y))"
      ],
      "metadata": {
        "colab": {
          "base_uri": "https://localhost:8080/"
        },
        "id": "mlBYPYF00iTD",
        "outputId": "ae7c1c4f-0d8a-41d0-bf22-d02908ff9177"
      },
      "execution_count": 3,
      "outputs": [
        {
          "output_type": "stream",
          "name": "stdout",
          "text": [
            "10750984\n",
            "10751016\n"
          ]
        }
      ]
    },
    {
      "cell_type": "code",
      "source": [
        "x = [1, 2, 3]\n",
        "y = [1, 2, 3]\n",
        "print(id(x))\n",
        "print(id(y))"
      ],
      "metadata": {
        "colab": {
          "base_uri": "https://localhost:8080/"
        },
        "id": "s1VghCvO1Scw",
        "outputId": "090cda7f-3547-49e3-afb8-eb6e02351ddb"
      },
      "execution_count": 4,
      "outputs": [
        {
          "output_type": "stream",
          "name": "stdout",
          "text": [
            "135787806534592\n",
            "135787245444416\n"
          ]
        }
      ]
    },
    {
      "cell_type": "code",
      "source": [
        "x = [1, 2, 3, 4]\n",
        "y = x\n",
        "y[0] = 100\n",
        "\n",
        "print(x)\n",
        "print(y)"
      ],
      "metadata": {
        "colab": {
          "base_uri": "https://localhost:8080/"
        },
        "id": "SRMlXYci1fkG",
        "outputId": "288ff0c3-8399-4d1e-b7a5-8927e8917f79"
      },
      "execution_count": 6,
      "outputs": [
        {
          "output_type": "stream",
          "name": "stdout",
          "text": [
            "[100, 2, 3, 4]\n",
            "[100, 2, 3, 4]\n"
          ]
        }
      ]
    },
    {
      "cell_type": "code",
      "source": [
        "4 + True"
      ],
      "metadata": {
        "colab": {
          "base_uri": "https://localhost:8080/"
        },
        "id": "4wDSiw_i3mGw",
        "outputId": "d5fa9fd6-191e-46bf-95b6-19b419175f34"
      },
      "execution_count": 7,
      "outputs": [
        {
          "output_type": "execute_result",
          "data": {
            "text/plain": [
              "5"
            ]
          },
          "metadata": {},
          "execution_count": 7
        }
      ]
    },
    {
      "cell_type": "code",
      "source": [
        "x = [1, 2, 3, 4, 5]\n",
        "print(id(x))\n",
        "x[0] = 100\n",
        "print(id(x))\n",
        "print(x)"
      ],
      "metadata": {
        "colab": {
          "base_uri": "https://localhost:8080/"
        },
        "id": "10READom39GU",
        "outputId": "db9bd125-cbfa-491c-c35d-acd9de88af42"
      },
      "execution_count": 8,
      "outputs": [
        {
          "output_type": "stream",
          "name": "stdout",
          "text": [
            "135786886536640\n",
            "135786886536640\n",
            "[100, 2, 3, 4, 5]\n"
          ]
        }
      ]
    },
    {
      "cell_type": "code",
      "source": [
        "x = 'Hello'\n",
        "print(x[0])\n",
        "print(id(x))\n",
        "x = 'h' + x[1:]\n",
        "print(x)\n",
        "print(id(x))"
      ],
      "metadata": {
        "colab": {
          "base_uri": "https://localhost:8080/"
        },
        "id": "aMPx5WZu4E_O",
        "outputId": "5af66553-7490-4c3c-c63a-4cf40b6b7b23"
      },
      "execution_count": 11,
      "outputs": [
        {
          "output_type": "stream",
          "name": "stdout",
          "text": [
            "H\n",
            "135786886073200\n",
            "hello\n",
            "135786886151024\n"
          ]
        }
      ]
    },
    {
      "cell_type": "code",
      "source": [
        "x = 5\n",
        "y = 5\n",
        "print(id(x))\n",
        "print(id(y))"
      ],
      "metadata": {
        "colab": {
          "base_uri": "https://localhost:8080/"
        },
        "id": "M1PVko9k4amb",
        "outputId": "a98c6a2f-1380-409d-814c-5447efb07239"
      },
      "execution_count": 13,
      "outputs": [
        {
          "output_type": "stream",
          "name": "stdout",
          "text": [
            "10750984\n",
            "10750984\n"
          ]
        }
      ]
    },
    {
      "cell_type": "code",
      "source": [
        "x = []\n",
        "y = []\n",
        "print(id(x))\n",
        "print(id(y))"
      ],
      "metadata": {
        "colab": {
          "base_uri": "https://localhost:8080/"
        },
        "id": "uGqvaJTI4u6B",
        "outputId": "a0ac7eec-0a00-4d7d-e217-80fb9d6c0ded"
      },
      "execution_count": 14,
      "outputs": [
        {
          "output_type": "stream",
          "name": "stdout",
          "text": [
            "135786914393216\n",
            "135786888139072\n"
          ]
        }
      ]
    },
    {
      "cell_type": "code",
      "source": [
        "a = 10\n",
        "b = a\n",
        "\n",
        "del a\n",
        "\n",
        "print(b)"
      ],
      "metadata": {
        "colab": {
          "base_uri": "https://localhost:8080/"
        },
        "id": "McBXIUtP43pQ",
        "outputId": "51a77665-59ba-46ea-dc06-14d316c2986a"
      },
      "execution_count": 15,
      "outputs": [
        {
          "output_type": "stream",
          "name": "stdout",
          "text": [
            "10\n"
          ]
        }
      ]
    },
    {
      "cell_type": "code",
      "source": [
        "x = 100\n",
        "y = 23.34\n"
      ],
      "metadata": {
        "id": "Ds-znMVZ5luU"
      },
      "execution_count": null,
      "outputs": []
    },
    {
      "cell_type": "code",
      "source": [
        "import sys\n",
        "print(sys.float_info, sep='\\n')"
      ],
      "metadata": {
        "colab": {
          "base_uri": "https://localhost:8080/"
        },
        "id": "FlbGy1ux5_g4",
        "outputId": "45e32ee6-66d1-4d4c-bb26-2ad20706a67b"
      },
      "execution_count": 18,
      "outputs": [
        {
          "output_type": "stream",
          "name": "stdout",
          "text": [
            "sys.float_info(max=1.7976931348623157e+308, max_exp=1024, max_10_exp=308, min=2.2250738585072014e-308, min_exp=-1021, min_10_exp=-307, dig=15, mant_dig=53, epsilon=2.220446049250313e-16, radix=2, rounds=1)\n"
          ]
        }
      ]
    },
    {
      "cell_type": "code",
      "source": [
        "1/3"
      ],
      "metadata": {
        "colab": {
          "base_uri": "https://localhost:8080/"
        },
        "id": "IBtxqAW46OCY",
        "outputId": "d6fb508a-4174-4fc0-ae5b-6650c2497129"
      },
      "execution_count": 19,
      "outputs": [
        {
          "output_type": "execute_result",
          "data": {
            "text/plain": [
              "0.3333333333333333"
            ]
          },
          "metadata": {},
          "execution_count": 19
        }
      ]
    },
    {
      "cell_type": "code",
      "source": [
        "0.1 + 0.1 + 0.1"
      ],
      "metadata": {
        "colab": {
          "base_uri": "https://localhost:8080/"
        },
        "id": "tUa9Tk-96afp",
        "outputId": "6de58486-24b4-4848-95d7-86c1ad2cf4d9"
      },
      "execution_count": 20,
      "outputs": [
        {
          "output_type": "execute_result",
          "data": {
            "text/plain": [
              "0.30000000000000004"
            ]
          },
          "metadata": {},
          "execution_count": 20
        }
      ]
    },
    {
      "cell_type": "code",
      "source": [
        "1 == 5"
      ],
      "metadata": {
        "colab": {
          "base_uri": "https://localhost:8080/"
        },
        "id": "H75xHA_r6oL-",
        "outputId": "d2a1ccfb-e52c-4842-be58-6d2fcd97bf31"
      },
      "execution_count": 22,
      "outputs": [
        {
          "output_type": "execute_result",
          "data": {
            "text/plain": [
              "False"
            ]
          },
          "metadata": {},
          "execution_count": 22
        }
      ]
    },
    {
      "cell_type": "code",
      "source": [
        "1 != 1"
      ],
      "metadata": {
        "colab": {
          "base_uri": "https://localhost:8080/"
        },
        "id": "v-69JsXg6592",
        "outputId": "b52cced5-69bc-4ba1-80f5-7eaa0be75dae"
      },
      "execution_count": 24,
      "outputs": [
        {
          "output_type": "execute_result",
          "data": {
            "text/plain": [
              "False"
            ]
          },
          "metadata": {},
          "execution_count": 24
        }
      ]
    },
    {
      "cell_type": "code",
      "source": [
        "print(1 > 5)\n",
        "print(1 < 5)\n",
        "print(1 >= 5)\n",
        "print(1 <= 5)"
      ],
      "metadata": {
        "colab": {
          "base_uri": "https://localhost:8080/"
        },
        "id": "QLYJOFki6-zn",
        "outputId": "9c58b2a0-d573-44f5-c25a-a74eb755eb26"
      },
      "execution_count": 27,
      "outputs": [
        {
          "output_type": "stream",
          "name": "stdout",
          "text": [
            "False\n",
            "True\n",
            "False\n",
            "True\n"
          ]
        }
      ]
    },
    {
      "cell_type": "code",
      "source": [
        "0.1 + 0.1 + 0.1 == 0.3"
      ],
      "metadata": {
        "colab": {
          "base_uri": "https://localhost:8080/"
        },
        "id": "gnpG8-W07OVM",
        "outputId": "c435eca3-4df3-488a-9044-5868117542e4"
      },
      "execution_count": 28,
      "outputs": [
        {
          "output_type": "execute_result",
          "data": {
            "text/plain": [
              "False"
            ]
          },
          "metadata": {},
          "execution_count": 28
        }
      ]
    },
    {
      "cell_type": "code",
      "source": [
        "0.1 + 0.1 + 0.1"
      ],
      "metadata": {
        "colab": {
          "base_uri": "https://localhost:8080/"
        },
        "id": "9retoqyZ7VZ9",
        "outputId": "cd3f3458-3887-478a-ee1a-ef0a1feef86f"
      },
      "execution_count": 29,
      "outputs": [
        {
          "output_type": "execute_result",
          "data": {
            "text/plain": [
              "0.30000000000000004"
            ]
          },
          "metadata": {},
          "execution_count": 29
        }
      ]
    },
    {
      "cell_type": "code",
      "source": [
        "0.3"
      ],
      "metadata": {
        "colab": {
          "base_uri": "https://localhost:8080/"
        },
        "id": "7BsHwFaT7ZFp",
        "outputId": "fea6f85f-9b68-47eb-a31a-bf33d10d6f01"
      },
      "execution_count": 30,
      "outputs": [
        {
          "output_type": "execute_result",
          "data": {
            "text/plain": [
              "0.3"
            ]
          },
          "metadata": {},
          "execution_count": 30
        }
      ]
    },
    {
      "cell_type": "code",
      "source": [
        "from decimal import Decimal\n",
        "\n",
        "x = Decimal('0.1')\n",
        "y = Decimal('0.3')\n",
        "\n",
        "x + x + x == y"
      ],
      "metadata": {
        "colab": {
          "base_uri": "https://localhost:8080/"
        },
        "id": "CuhSkTVf8Gcc",
        "outputId": "e465410e-7265-4c2e-9ddd-6f83258e84a6"
      },
      "execution_count": 32,
      "outputs": [
        {
          "output_type": "execute_result",
          "data": {
            "text/plain": [
              "True"
            ]
          },
          "metadata": {},
          "execution_count": 32
        }
      ]
    },
    {
      "cell_type": "code",
      "source": [
        "0.1 + 0.1 + 0.1 <= 0.3"
      ],
      "metadata": {
        "colab": {
          "base_uri": "https://localhost:8080/"
        },
        "id": "wn1mlqWG8dME",
        "outputId": "ed0ba8c6-d603-4225-d17f-0b27a65cf99b"
      },
      "execution_count": 34,
      "outputs": [
        {
          "output_type": "execute_result",
          "data": {
            "text/plain": [
              "False"
            ]
          },
          "metadata": {},
          "execution_count": 34
        }
      ]
    },
    {
      "cell_type": "code",
      "source": [
        "import math\n",
        "\n",
        "x = 0.1 + 0.1 + 0.1\n",
        "y = 0.3\n",
        "\n",
        "\n",
        "math.isclose(x, y, rel_tol=1e-05)"
      ],
      "metadata": {
        "colab": {
          "base_uri": "https://localhost:8080/"
        },
        "id": "ysfWMtrH8zXm",
        "outputId": "dd9b1f60-fef7-4067-b5dc-de5ed7a7d119"
      },
      "execution_count": 39,
      "outputs": [
        {
          "output_type": "execute_result",
          "data": {
            "text/plain": [
              "True"
            ]
          },
          "metadata": {},
          "execution_count": 39
        }
      ]
    },
    {
      "cell_type": "code",
      "source": [
        "import math\n",
        "help(math.isclose)"
      ],
      "metadata": {
        "colab": {
          "base_uri": "https://localhost:8080/"
        },
        "id": "OMOGbvBC8-aL",
        "outputId": "f4f8b417-95f9-4123-f64e-736ad7ec6626"
      },
      "execution_count": 37,
      "outputs": [
        {
          "output_type": "stream",
          "name": "stdout",
          "text": [
            "Help on built-in function isclose in module math:\n",
            "\n",
            "isclose(a, b, *, rel_tol=1e-09, abs_tol=0.0)\n",
            "    Determine whether two floating point numbers are close in value.\n",
            "    \n",
            "      rel_tol\n",
            "        maximum difference for being considered \"close\", relative to the\n",
            "        magnitude of the input values\n",
            "      abs_tol\n",
            "        maximum difference for being considered \"close\", regardless of the\n",
            "        magnitude of the input values\n",
            "    \n",
            "    Return True if a is close in value to b, and False otherwise.\n",
            "    \n",
            "    For the values to be considered close, the difference between them\n",
            "    must be smaller than at least one of the tolerances.\n",
            "    \n",
            "    -inf, inf and NaN behave similarly to the IEEE 754 Standard.  That\n",
            "    is, NaN is not close to anything, even itself.  inf and -inf are\n",
            "    only close to themselves.\n",
            "\n"
          ]
        }
      ]
    },
    {
      "cell_type": "code",
      "source": [
        "x = 1.23555\n",
        "\n",
        "round(x, 2)"
      ],
      "metadata": {
        "colab": {
          "base_uri": "https://localhost:8080/"
        },
        "id": "P62lVhMC9hg_",
        "outputId": "5754b482-510e-4d15-97df-263b126b4996"
      },
      "execution_count": 41,
      "outputs": [
        {
          "output_type": "execute_result",
          "data": {
            "text/plain": [
              "1.24"
            ]
          },
          "metadata": {},
          "execution_count": 41
        }
      ]
    },
    {
      "cell_type": "code",
      "source": [
        "round(0.5)"
      ],
      "metadata": {
        "colab": {
          "base_uri": "https://localhost:8080/"
        },
        "id": "iVTZZQe-97kE",
        "outputId": "aa374c98-151a-4964-dbee-fe9139c8e0ab"
      },
      "execution_count": 47,
      "outputs": [
        {
          "output_type": "execute_result",
          "data": {
            "text/plain": [
              "1"
            ]
          },
          "metadata": {},
          "execution_count": 47
        }
      ]
    },
    {
      "cell_type": "code",
      "source": [
        "round(-0.5)"
      ],
      "metadata": {
        "colab": {
          "base_uri": "https://localhost:8080/"
        },
        "id": "vX7CEq8W-F88",
        "outputId": "9104d93f-f68d-41c0-d418-d7252f881c3f"
      },
      "execution_count": 43,
      "outputs": [
        {
          "output_type": "execute_result",
          "data": {
            "text/plain": [
              "0"
            ]
          },
          "metadata": {},
          "execution_count": 43
        }
      ]
    },
    {
      "cell_type": "code",
      "source": [
        "round(1.5)"
      ],
      "metadata": {
        "colab": {
          "base_uri": "https://localhost:8080/"
        },
        "id": "aiTli5f6-L44",
        "outputId": "6735270e-122d-489c-9cac-53f1b5f948ed"
      },
      "execution_count": 44,
      "outputs": [
        {
          "output_type": "execute_result",
          "data": {
            "text/plain": [
              "2"
            ]
          },
          "metadata": {},
          "execution_count": 44
        }
      ]
    },
    {
      "cell_type": "code",
      "source": [
        "round(-2.5)"
      ],
      "metadata": {
        "colab": {
          "base_uri": "https://localhost:8080/"
        },
        "id": "8IWJw8Ef-PmH",
        "outputId": "c4d54471-5359-4eaa-b6c5-e1be47dff822"
      },
      "execution_count": 46,
      "outputs": [
        {
          "output_type": "execute_result",
          "data": {
            "text/plain": [
              "-2"
            ]
          },
          "metadata": {},
          "execution_count": 46
        }
      ]
    },
    {
      "cell_type": "code",
      "source": [
        "import math\n",
        "\n",
        "\n",
        "x = 10 / 3\n",
        "math.ceil(x)"
      ],
      "metadata": {
        "colab": {
          "base_uri": "https://localhost:8080/"
        },
        "id": "0m-o6P8i__r_",
        "outputId": "f7b3a3bb-38db-4795-aced-b39a88a00c24"
      },
      "execution_count": 48,
      "outputs": [
        {
          "output_type": "execute_result",
          "data": {
            "text/plain": [
              "4"
            ]
          },
          "metadata": {},
          "execution_count": 48
        }
      ]
    },
    {
      "cell_type": "code",
      "source": [
        "math.floor(x)"
      ],
      "metadata": {
        "colab": {
          "base_uri": "https://localhost:8080/"
        },
        "id": "wcDyOH_hA0JD",
        "outputId": "1a91642d-ffe5-446f-bb47-943c6b0bfa00"
      },
      "execution_count": 49,
      "outputs": [
        {
          "output_type": "execute_result",
          "data": {
            "text/plain": [
              "3"
            ]
          },
          "metadata": {},
          "execution_count": 49
        }
      ]
    },
    {
      "cell_type": "code",
      "source": [
        "from decimal import Decimal, ROUND_HALF_UP\n",
        "\n",
        "number = Decimal(input('x>>'))\n",
        "\n",
        "rounded = number.quantize(Decimal('0.1'), rounding=ROUND_HALF_UP)\n",
        "print(rounded)"
      ],
      "metadata": {
        "colab": {
          "base_uri": "https://localhost:8080/"
        },
        "id": "uYtEgb8TA_cU",
        "outputId": "9e5b46ac-dbac-46c5-c203-53d0fe01cc4e"
      },
      "execution_count": 53,
      "outputs": [
        {
          "output_type": "stream",
          "name": "stdout",
          "text": [
            "x>>0.5\n",
            "0.5\n"
          ]
        }
      ]
    },
    {
      "cell_type": "code",
      "source": [
        "import decimal\n",
        "\n",
        "number = decimal.Decimal(input('x>>'))\n",
        "\n",
        "rounded = number.quantize(decimal.Decimal('0.1'), rounding=decimal.ROUND_HALF_UP)\n",
        "print(rounded)"
      ],
      "metadata": {
        "id": "Fb7ZLuT6AX0p"
      },
      "execution_count": null,
      "outputs": []
    },
    {
      "cell_type": "code",
      "source": [
        "# and, or, not"
      ],
      "metadata": {
        "id": "106z7-CSCmxR"
      },
      "execution_count": null,
      "outputs": []
    },
    {
      "cell_type": "code",
      "source": [
        "x = 5\n",
        "y = 0\n",
        "\n",
        "x or y"
      ],
      "metadata": {
        "colab": {
          "base_uri": "https://localhost:8080/"
        },
        "id": "Ihea9d1WD5iE",
        "outputId": "81561751-0a0b-4d9c-d9fa-e6c4be9d6c63"
      },
      "execution_count": 58,
      "outputs": [
        {
          "output_type": "execute_result",
          "data": {
            "text/plain": [
              "5"
            ]
          },
          "metadata": {},
          "execution_count": 58
        }
      ]
    },
    {
      "cell_type": "code",
      "source": [
        "x = 5\n",
        "y = 0\n",
        "\n",
        "x and y"
      ],
      "metadata": {
        "colab": {
          "base_uri": "https://localhost:8080/"
        },
        "id": "qN82TeSMEttb",
        "outputId": "e226a8c3-0292-4bb3-a55a-9a4a13be5b1c"
      },
      "execution_count": 60,
      "outputs": [
        {
          "output_type": "execute_result",
          "data": {
            "text/plain": [
              "0"
            ]
          },
          "metadata": {},
          "execution_count": 60
        }
      ]
    },
    {
      "cell_type": "code",
      "source": [
        "x = int(input('x>>'))\n",
        "\n",
        "x >= 50 and x <= 100"
      ],
      "metadata": {
        "colab": {
          "base_uri": "https://localhost:8080/"
        },
        "id": "3h-kwgsRFOxh",
        "outputId": "453ff019-c700-413f-a585-fae2ff69c070"
      },
      "execution_count": 62,
      "outputs": [
        {
          "name": "stdout",
          "output_type": "stream",
          "text": [
            "x>>1\n"
          ]
        },
        {
          "output_type": "execute_result",
          "data": {
            "text/plain": [
              "False"
            ]
          },
          "metadata": {},
          "execution_count": 62
        }
      ]
    },
    {
      "cell_type": "code",
      "source": [
        "x = int(input('x>>'))\n",
        "\n",
        "x < 50 or x > 100"
      ],
      "metadata": {
        "colab": {
          "base_uri": "https://localhost:8080/"
        },
        "id": "HwIy7_5bFxJ4",
        "outputId": "7f2b1edb-a7a1-4ccd-a118-24da7a8d78b1"
      },
      "execution_count": 64,
      "outputs": [
        {
          "name": "stdout",
          "output_type": "stream",
          "text": [
            "x>>56\n"
          ]
        },
        {
          "output_type": "execute_result",
          "data": {
            "text/plain": [
              "False"
            ]
          },
          "metadata": {},
          "execution_count": 64
        }
      ]
    },
    {
      "cell_type": "code",
      "source": [
        "x = int(input('x>>'))\n",
        "\n",
        "50 <= x <= 100"
      ],
      "metadata": {
        "colab": {
          "base_uri": "https://localhost:8080/"
        },
        "id": "d7z5eh-TF5s-",
        "outputId": "27d5c815-067b-45f3-c149-886e3ee62d9d"
      },
      "execution_count": 65,
      "outputs": [
        {
          "name": "stdout",
          "output_type": "stream",
          "text": [
            "x>>56\n"
          ]
        },
        {
          "output_type": "execute_result",
          "data": {
            "text/plain": [
              "True"
            ]
          },
          "metadata": {},
          "execution_count": 65
        }
      ]
    },
    {
      "cell_type": "code",
      "source": [
        "x = int(input('x>>'))\n",
        "\n",
        "not (50 <= x <= 100)"
      ],
      "metadata": {
        "colab": {
          "base_uri": "https://localhost:8080/"
        },
        "id": "SKeReMX7GDBi",
        "outputId": "c6ea1336-c507-4851-96be-7788da013de3"
      },
      "execution_count": 67,
      "outputs": [
        {
          "name": "stdout",
          "output_type": "stream",
          "text": [
            "x>>200\n"
          ]
        },
        {
          "output_type": "execute_result",
          "data": {
            "text/plain": [
              "True"
            ]
          },
          "metadata": {},
          "execution_count": 67
        }
      ]
    }
  ]
}